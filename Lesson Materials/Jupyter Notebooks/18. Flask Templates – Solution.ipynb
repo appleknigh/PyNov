{
 "cells": [
  {
   "cell_type": "code",
   "execution_count": 1,
   "metadata": {},
   "outputs": [],
   "source": [
    "# To fake a database until we learn to use a real one, the collection below will be our application's \"data\"\n",
    "reviews = [\n",
    "    {\"book_title\":\"The Handmaid's Tale\", \"review_text\":\"A harrowing documentary of modern America\", \"score\":5, \"id\":\"1\"},\n",
    "    {\"book_title\":\"To Serve Man\", \"review_text\":\"Delicious recipes\", \"score\":3, \"id\":\"2\"},\n",
    "    {\"book_title\":\"Pride and Prejudice\", \"review_text\":\"The pride is ok but the prejudice not so much\", \"score\":4, \"id\":\"3\"},\n",
    "]"
   ]
  },
  {
   "cell_type": "code",
   "execution_count": 2,
   "metadata": {},
   "outputs": [],
   "source": [
    "from flask import Flask, render_template, request # import what we need to use from the flask library\n",
    "\n",
    "\n",
    "app = Flask(__name__) # invoke the Flask clas"
   ]
  },
  {
   "cell_type": "markdown",
   "metadata": {},
   "source": [
    "#### 1. Example template route"
   ]
  },
  {
   "cell_type": "code",
   "execution_count": 3,
   "metadata": {},
   "outputs": [],
   "source": [
    "@app.route(\"/example\")\n",
    "def example_route():\n",
    "    return render_template(\"example.html\", adjective=\"fun\")"
   ]
  },
  {
   "cell_type": "markdown",
   "metadata": {},
   "source": [
    "#### 2. Show Route"
   ]
  },
  {
   "cell_type": "code",
   "execution_count": 4,
   "metadata": {},
   "outputs": [],
   "source": [
    "# Create a route with the url reviews/ID, where ID is a route variable\n",
    "# Render the show.html template, providing the review with the matching id\n",
    "# In the show.html template, display the book_title and review_text information.\n",
    "# The book_title should be an h2 element, while the review_text should be a paragraph element\n",
    "# Hint: You will have to loop through the list to find the right review to provide\n",
    "@app.route(\"/reviews/<id>\", methods=[\"GET\"])\n",
    "def show_review(id):\n",
    "    for review in reviews:\n",
    "        if review[\"id\"] == id:\n",
    "            return render_template(\"show.html\", review=review)"
   ]
  },
  {
   "cell_type": "markdown",
   "metadata": {},
   "source": [
    "#### 3. Index Route"
   ]
  },
  {
   "cell_type": "code",
   "execution_count": 5,
   "metadata": {},
   "outputs": [],
   "source": [
    "# Create a route with the url \"reviews\"\n",
    "# Render the index.html template, providing the entire list of reviews as a keyword argument\n",
    "@app.route(\"/reviews\", methods=[\"GET\"])\n",
    "def index_review():\n",
    "    return render_template(\"index.html\", reviews=reviews)"
   ]
  },
  {
   "cell_type": "markdown",
   "metadata": {},
   "source": [
    "#### 4. Create Route"
   ]
  },
  {
   "cell_type": "code",
   "execution_count": 6,
   "metadata": {},
   "outputs": [],
   "source": [
    "# Create a route that accepts a POST request to \"/reviews\"\n",
    "# The route should create a new_review dictionary that contains the attached request's data\n",
    "# Add the new_review dictionary to the reviews list\n",
    "# Return a dictionary as follows: { \"status\": 201, \"data\": reviews } as the response from this route\n",
    "@app.route(\"/reviews\", methods=[\"POST\"])\n",
    "def create_review():\n",
    "    new_review = {}\n",
    "    new_review[\"book_title\"] = request.form[\"book_title\"]\n",
    "    new_review[\"review_text\"] = request.form[\"review_text\"]\n",
    "    new_review[\"score\"] = request.form[\"score\"]\n",
    "    new_review[\"id\"] = str(len(reviews))\n",
    "    reviews.append(new_review)\n",
    "    return {\n",
    "        \"status\":201,\n",
    "        \"data\": reviews\n",
    "    }\n",
    "    "
   ]
  },
  {
   "cell_type": "code",
   "execution_count": 8,
   "metadata": {
    "scrolled": true
   },
   "outputs": [],
   "source": [
    "# Enter the command below into your terminal to send a test request to your Create route\n",
    "# curl -d \"book_title=War and Peace 2: Return of the Andrei&review_text=Tolstoy should have stopped with the first one.&score=2&id=4\" -X POST http://localhost:5000/reviews"
   ]
  },
  {
   "cell_type": "code",
   "execution_count": 9,
   "metadata": {
    "scrolled": true
   },
   "outputs": [
    {
     "name": "stdout",
     "output_type": "stream",
     "text": [
      " * Serving Flask app \"__main__\" (lazy loading)\n",
      " * Environment: production\n",
      "   WARNING: This is a development server. Do not use it in a production deployment.\n",
      "   Use a production WSGI server instead.\n",
      " * Debug mode: off\n"
     ]
    },
    {
     "name": "stderr",
     "output_type": "stream",
     "text": [
      " * Running on http://127.0.0.1:5000/ (Press CTRL+C to quit)\n",
      "127.0.0.1 - - [08/Apr/2021 16:16:47] \"\u001b[37mGET /reviews HTTP/1.1\u001b[0m\" 200 -\n",
      "127.0.0.1 - - [08/Apr/2021 16:16:50] \"\u001b[37mPOST /reviews HTTP/1.1\u001b[0m\" 200 -\n",
      "127.0.0.1 - - [08/Apr/2021 16:17:00] \"\u001b[37mGET /reviews HTTP/1.1\u001b[0m\" 200 -\n",
      "127.0.0.1 - - [08/Apr/2021 16:27:46] \"\u001b[37mGET /reviews HTTP/1.1\u001b[0m\" 200 -\n"
     ]
    }
   ],
   "source": [
    "if __name__ == '__main__':\n",
    "    app.run() # Start the server listening for requests"
   ]
  },
  {
   "cell_type": "code",
   "execution_count": null,
   "metadata": {},
   "outputs": [],
   "source": []
  }
 ],
 "metadata": {
  "kernelspec": {
   "display_name": "Python 3",
   "language": "python",
   "name": "python3"
  },
  "language_info": {
   "codemirror_mode": {
    "name": "ipython",
    "version": 3
   },
   "file_extension": ".py",
   "mimetype": "text/x-python",
   "name": "python",
   "nbconvert_exporter": "python",
   "pygments_lexer": "ipython3",
   "version": "3.7.6"
  }
 },
 "nbformat": 4,
 "nbformat_minor": 4
}
