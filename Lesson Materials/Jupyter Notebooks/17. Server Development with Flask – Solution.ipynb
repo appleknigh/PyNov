{
 "cells": [
  {
   "cell_type": "markdown",
   "metadata": {},
   "source": [
    "#### 1. Running a Flask Server"
   ]
  },
  {
   "cell_type": "code",
   "execution_count": null,
   "metadata": {},
   "outputs": [],
   "source": [
    "%pip install flask\n",
    "from flask import Flask # import the Flask class to create an app\n",
    "\n",
    "app = Flask(__name__) # invoke the Flask clas\n",
    "\n",
    "@app.route('/') # define the first route, the home route\n",
    "def index(): # define the function that responds to the above route\n",
    "  return 'Hello, World!'\n",
    "\n",
    "if __name__ == '__main__':\n",
    "    app.run() # Start the server listening for requests"
   ]
  },
  {
   "cell_type": "markdown",
   "metadata": {},
   "source": [
    "#### 2. API Routes\n",
    "Create each of the seven RESTful routes for \"/reviews\", responding with a string describing what the route's purpose is. Note that, in order for these routes to be part of the app, you will have to move the app.run()  conditional statement to be the very last piece of code in the app."
   ]
  },
  {
   "cell_type": "code",
   "execution_count": null,
   "metadata": {},
   "outputs": [],
   "source": [
    "# A. index\n",
    "@app.route(\"/reviews\", methods=[\"GET\", \"POST\"])\n",
    "def index_review():\n",
    "    if request.method == \"GET\":\n",
    "        return \"This route would be the home page for the reviews resource\"\n",
    "    elif request.method == \"POST\":\n",
    "        return \"This route would be for creating a new review\""
   ]
  },
  {
   "cell_type": "code",
   "execution_count": null,
   "metadata": {},
   "outputs": [],
   "source": [
    "# B. create\n",
    "# See above for handling multiple request types to the same URL address"
   ]
  },
  {
   "cell_type": "code",
   "execution_count": null,
   "metadata": {
    "scrolled": true
   },
   "outputs": [],
   "source": [
    "# C. show\n",
    "# D. update\n",
    "# E. delete\n",
    "@app.route(\"/reviews/<id>\", methods=[\"GET\", \"PUT\", \"DELETE\"])\n",
    "def individual_review(id):\n",
    "    if request.method == \"GET\":\n",
    "        return \"This route would be to show the details page of an individual review\"\n",
    "    elif request.method == \"PUT\":\n",
    "        return \"This route would be for updating the specific review\"\n",
    "    elif request.method == \"DELETE\":\n",
    "        return \"This route would delete the specific review\""
   ]
  },
  {
   "cell_type": "code",
   "execution_count": null,
   "metadata": {},
   "outputs": [],
   "source": [
    "# F. new\n",
    "@app.route(\"/reviews/new\", methods=[\"GET\"])\n",
    "def new_review():\n",
    "    return \"This route would be to serve the user the form to create a new review\""
   ]
  },
  {
   "cell_type": "code",
   "execution_count": null,
   "metadata": {},
   "outputs": [],
   "source": [
    "# G. edit\n",
    "@app.route(\"/reviews/<id>/edit\", methods=[\"GET\"])\n",
    "def edit_review():\n",
    "    return \"This route would show the form to edit the particular review\""
   ]
  }
 ],
 "metadata": {
  "kernelspec": {
   "display_name": "Python 3",
   "language": "python",
   "name": "python3"
  },
  "language_info": {
   "codemirror_mode": {
    "name": "ipython",
    "version": 3
   },
   "file_extension": ".py",
   "mimetype": "text/x-python",
   "name": "python",
   "nbconvert_exporter": "python",
   "pygments_lexer": "ipython3",
   "version": "3.7.6"
  }
 },
 "nbformat": 4,
 "nbformat_minor": 4
}
