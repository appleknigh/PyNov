{
 "cells": [
  {
   "cell_type": "code",
   "execution_count": null,
   "metadata": {},
   "outputs": [],
   "source": [
    "# 7.1 Weather You Like It Or Not\n",
    "# Complete the weather application below\n",
    "\n",
    "command = \"\"\n",
    "while(command != \"q\"):\n",
    "    command = input(\"Choose [c] for current weather, [f] for a forecast, and [q] to quit.\")\n",
    "    if(command == \"c\"):\n",
    "        location = input(\"What location would you like the current weather for: \")\n",
    "        # A. Use the location string to send a search query to this endpoint: \n",
    "        # https://openweathermap.org/current#one\n",
    "        # Then, print \"The weather in _____ is _______ degrees\" using the location and temperature result\n",
    "    if(command == \"f\"):\n",
    "        location = input(\"What location would you like a forecast for?\")\n",
    "        count = input(\"How many days would you like (choose up to 16)\")\n",
    "        # B. Use the location and count variables for a request to this endpoint: \n",
    "        # https://openweathermap.org/forecast16#16days\n",
    "        # Then, loop through the list and display each day's result however you'd like"
   ]
  },
  {
   "cell_type": "code",
   "execution_count": 1,
   "metadata": {},
   "outputs": [],
   "source": [
    "# 7.2 API Scavenger Hunt\n",
    "# Use any API from the link below and make requests to answer as many questions as you can\n",
    "# https://github.com/public-apis/public-apis"
   ]
  },
  {
   "cell_type": "code",
   "execution_count": null,
   "metadata": {},
   "outputs": [],
   "source": [
    "# A. How many Yen will my $100 US Dollars convert to at today's exchange rates?"
   ]
  },
  {
   "cell_type": "code",
   "execution_count": null,
   "metadata": {},
   "outputs": [],
   "source": [
    "# B. How many shares of MSFT can I buy for that same $100?"
   ]
  },
  {
   "cell_type": "code",
   "execution_count": null,
   "metadata": {},
   "outputs": [],
   "source": [
    "# C. When is the next train arriving at _______? (choose any location)"
   ]
  },
  {
   "cell_type": "code",
   "execution_count": null,
   "metadata": {},
   "outputs": [],
   "source": [
    "# D. Find me a job posting to help my unemployed Graphic Designer friend."
   ]
  },
  {
   "cell_type": "code",
   "execution_count": null,
   "metadata": {},
   "outputs": [],
   "source": [
    "# E. My roommate says they study \"epistemology\". What does that even mean?"
   ]
  }
 ],
 "metadata": {
  "kernelspec": {
   "display_name": "Python 3",
   "language": "python",
   "name": "python3"
  },
  "language_info": {
   "codemirror_mode": {
    "name": "ipython",
    "version": 3
   },
   "file_extension": ".py",
   "mimetype": "text/x-python",
   "name": "python",
   "nbconvert_exporter": "python",
   "pygments_lexer": "ipython3",
   "version": "3.7.6"
  }
 },
 "nbformat": 4,
 "nbformat_minor": 4
}
