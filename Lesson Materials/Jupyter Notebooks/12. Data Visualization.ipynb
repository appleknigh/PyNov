{
 "cells": [
  {
   "cell_type": "code",
   "execution_count": null,
   "metadata": {},
   "outputs": [],
   "source": [
    "import pandas as pd\n",
    "import numpy as np\n",
    "import matplotlib.pyplot as plt\n",
    "\n",
    "# set the plots to display in the Jupyter notebook\n",
    "%matplotlib inline"
   ]
  },
  {
   "cell_type": "code",
   "execution_count": null,
   "metadata": {},
   "outputs": [],
   "source": [
    "# 9.1 Line Plot\n",
    "\n",
    "# A. Make a dataframe called foot using the \"./international_football_results.csv\" file\n",
    "#    Perform a few exploratory data analysis operations before working with the data set\n",
    "\n",
    "# We'll use the .to_datetime method and .dt.year property to set the \"year\" column from a string to an integer\n"
   ]
  },
  {
   "cell_type": "code",
   "execution_count": null,
   "metadata": {},
   "outputs": [],
   "source": [
    "# B. Let's chart how many games occured in each year:\n"
   ]
  },
  {
   "cell_type": "code",
   "execution_count": null,
   "metadata": {},
   "outputs": [],
   "source": [
    "# The years are out of order! Fortunately, we can sort our column by its index with sort_index()\n"
   ]
  },
  {
   "cell_type": "code",
   "execution_count": null,
   "metadata": {},
   "outputs": [],
   "source": [
    "# Finally, we're ready to plot the change over time with .plot()\n"
   ]
  },
  {
   "cell_type": "code",
   "execution_count": null,
   "metadata": {},
   "outputs": [],
   "source": [
    "# 9.2 Bar Charts\n",
    "# A. Let's see how many games each country played, represented as a bar chart\n"
   ]
  },
  {
   "cell_type": "code",
   "execution_count": null,
   "metadata": {},
   "outputs": [],
   "source": [
    "# B. Now let's plot the occurence of specific scores for the home team\n"
   ]
  },
  {
   "cell_type": "code",
   "execution_count": null,
   "metadata": {},
   "outputs": [],
   "source": [
    "# C. Instead of sorting from highest to lowest value, let's sort the x axis in ascending order\n"
   ]
  },
  {
   "cell_type": "code",
   "execution_count": null,
   "metadata": {},
   "outputs": [],
   "source": [
    "# BONUS: Compare the home_score and away_score value counts to analyze home field advantage\n",
    "# You will need to use the .apply method to use value_counts on each column of a dataframe\n"
   ]
  },
  {
   "cell_type": "code",
   "execution_count": null,
   "metadata": {},
   "outputs": [],
   "source": [
    "# 9.3 Histograms\n",
    "# A. Let's start with a new dataset. Create a dataframe called choc from the './chocolate_reviews.csv' file\n",
    "#    Inspect the data using some exploratory data analysis methods\n"
   ]
  },
  {
   "cell_type": "code",
   "execution_count": null,
   "metadata": {},
   "outputs": [],
   "source": [
    "# B. Now, let's explore the distribution of ratings\n",
    "#    i. Start by plotting the Rating column in a histogram\n"
   ]
  },
  {
   "cell_type": "code",
   "execution_count": null,
   "metadata": {},
   "outputs": [],
   "source": [
    "#    ii. Looking good! Let's see how granular we can get\n",
    "#        Modify the number of bins to change how ranges are distributed\n"
   ]
  },
  {
   "cell_type": "code",
   "execution_count": null,
   "metadata": {},
   "outputs": [],
   "source": [
    "#    iii. Now, let's add some descriptive labels to our chart using matplotlib\n"
   ]
  },
  {
   "cell_type": "code",
   "execution_count": null,
   "metadata": {
    "scrolled": false
   },
   "outputs": [],
   "source": [
    "# 9.4 Scatter Plots\n",
    "# A. Is there a connection between Review Date and Rating? Plot them with a scatter plot\n",
    "\n",
    "# Why is this graph not so helpful?"
   ]
  },
  {
   "cell_type": "code",
   "execution_count": null,
   "metadata": {},
   "outputs": [],
   "source": [
    "# B. Explore this new dataframe, then scatter plot correlation between Total Volume and AveragePrice\n"
   ]
  },
  {
   "cell_type": "code",
   "execution_count": null,
   "metadata": {},
   "outputs": [],
   "source": [
    "# 9.5 Visualizations to Hypotheses\n",
    "# Create visualizations around any of the above datasets or our superstore datasets\n",
    "# For at least one of the visualizations, attach a hypothesis or specific claim the chart supports"
   ]
  }
 ],
 "metadata": {
  "kernelspec": {
   "display_name": "Python 3",
   "language": "python",
   "name": "python3"
  },
  "language_info": {
   "codemirror_mode": {
    "name": "ipython",
    "version": 3
   },
   "file_extension": ".py",
   "mimetype": "text/x-python",
   "name": "python",
   "nbconvert_exporter": "python",
   "pygments_lexer": "ipython3",
   "version": "3.7.6"
  }
 },
 "nbformat": 4,
 "nbformat_minor": 4
}
